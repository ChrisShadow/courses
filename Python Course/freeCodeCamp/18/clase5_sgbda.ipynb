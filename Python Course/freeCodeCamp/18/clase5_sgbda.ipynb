{
 "cells": [
  {
   "cell_type": "markdown",
   "metadata": {},
   "source": [
    "# Bienvenidos a la Clase 5 de SGBDA\n",
    "\n",
    "En esta clase vamos a utilizar la librería pandas para creación y manejo de datasets, además de trabajar con las diferentes estructuras de datos, manejar y conocer las diferentes opciones en cada tipo de estructura, sus coincidencias y diferencias."
   ]
  },
  {
   "cell_type": "markdown",
   "metadata": {},
   "source": [
    "### Pandas:\n",
    "pandas es un paquete de Python que proporciona estructuras de datos rápidas, flexibles y expresivas diseñadas para que el trabajo con datos \"relacionales\" o \"etiquetados\" sea fácil e intuitivo. Su objetivo es ser el bloque de construcción fundamental de alto nivel para realizar análisis de datos prácticos del mundo real en Python. Además, tiene el objetivo más amplio de convertirse en la herramienta de análisis / manipulación de datos de código abierto más potente y flexible disponible en cualquier idioma."
   ]
  },
  {
   "cell_type": "markdown",
   "metadata": {},
   "source": [
    "pandas es adecuado para muchos tipos diferentes de datos:\n",
    "* Datos tabulares con columnas de tipos heterogéneos, como en una tabla SQL o una hoja de cálculo de Excel\n",
    "* Datos de series de tiempo ordenados y desordenados (no necesariamente de frecuencia fija).\n",
    "* Datos matriciales arbitrarios (homogéneos o heterogéneos) con etiquetas de fila y columna\n",
    "\n",
    "\n",
    "Cualquier otra forma de conjuntos de datos observacionales / estadísticos. Los datos en realidad no necesitan etiquetarse en absoluto para ser colocados en una estructura de datos de pandas.\n",
    "\n",
    "\n",
    "Las dos estructuras de datos principales de pandas, Series (unidimensional) y DataFrame (bidimensional), manejan la gran mayoría de los casos de uso típicos en finanzas, estadísticas, ciencias sociales y muchas áreas de la ingeniería. Para los usuarios de R, DataFrame proporciona todo lo que proporciona el data.frame de R y mucho más. pandas está construido sobre NumPy y está destinado a integrarse bien dentro de un entorno informático científico con muchas otras bibliotecas de terceros.\n",
    "\n",
    "Estas son solo algunas de las cosas que los pandas hacen bien:\n",
    "\n",
    "* Fácil manejo de los __datos faltantes__ (representados como NaN) en punto flotante, así como datos de punto no flotante\n",
    "* Mutabilidad de tamaño: las columnas se pueden __insertar y eliminar__ de DataFrame y objetos de mayor dimensión\n",
    "* __Alineación de datos__ automática y explícita: los objetos se pueden alinear explícitamente a un conjunto de etiquetas, o el usuario puede simplemente ignorar las etiquetas y dejar que Series, DataFrame, etc.alineen automáticamente los datos para usted en los cálculos.\n",
    "* Potente y flexible __agrupar por (group by)__ para realizar operaciones de división, aplicación y combinación en conjuntos de datos, tanto para agregar como para transformar datos\n",
    "* __Facilita la conversión__ de datos irregulares e indexados de manera diferente en otras estructuras de datos Python y NumPy en objetos DataFrame\n",
    "* Corte inteligente basado en __etiquetas, indexación sofisticada y subconjunto__ de grandes conjuntos de datos\n",
    "* Combinación y unión de conjuntos de datos intuitivos\n",
    "* _Merging y joining_ flexibles de conjuntos de datos\n",
    "* __Etiquetado jerárquico__ de ejes\n",
    "* Herramientas de E/S robustas para cargar datos de __archivos planos__ (CSV y delimitados), archivos de Excel, bases de datos y guardar/cargar datos desde el formato HDF5 ultrarrápido\n",
    "* Funcionalidad específica de __series de tiempo__: generación de rango de fechas y conversión de frecuencia, estadísticas de ventana móvil, cambio de fecha y retraso.\n",
    "\n",
    "Muchos de estos principios están aquí para abordar las deficiencias que se experimentan con frecuencia al utilizar otros lenguajes/entornos de investigación científica. Para los científicos de datos, el trabajo con datos generalmente se divide en múltiples etapas: recopilar y limpiar datos, analizarlos/modelarlos y luego organizar los resultados del análisis en una forma adecuada para trazarlos o mostrarlos en forma de tabla.\n",
    "\n",
    "__pandas__ es la herramienta ideal para todas estas tareas.\n",
    "\n",
    "### Data structures\n",
    "\n",
    "1) Dimensiones: 1\n",
    "* __Nombres__: Series\n",
    "* __Descripción__: Matriz de tipificación homogénea etiquetada 1D\n",
    "\n",
    "2) Dimensiones: 2\n",
    "* __Nombres__: DataFrame\n",
    "* __Descripción__: Estructura tabular de tamaño mutable, etiquetada en 2D general con columna potencialmente heterogénea"
   ]
  },
  {
   "cell_type": "markdown",
   "metadata": {},
   "source": [
    " ### Qué tipo de datos manejan pandas?\n",
    " Quiero empezar a usar pandas:"
   ]
  },
  {
   "cell_type": "code",
   "execution_count": null,
   "metadata": {},
   "outputs": [],
   "source": [
    "import pandas as pd"
   ]
  },
  {
   "cell_type": "markdown",
   "metadata": {},
   "source": [
    "Para cargar el paquete __pandas__ y comenzar a trabajar con él, importe el paquete. El alias acordado por la comunidad para pandas es __pd__, por lo que cargar pandas como __pd__ se supone una práctica estándar para toda la documentación de pandas."
   ]
  },
  {
   "cell_type": "markdown",
   "metadata": {},
   "source": [
    "### Pepresentación de la tabla de datos con pandas:\n",
    "<img src=\"https://pandas.pydata.org/pandas-docs/version/1.0.3/_images/01_table_dataframe1.svg\" width=\"30%\" height=\"30%\">\n",
    "\n",
    "Quiero almacenar datos de pasajeros del _Titanic_. Para varios pasajeros, conozco los datos de nombre (caracteres), edad (números enteros) y sexo (hombre/mujer)."
   ]
  },
  {
   "cell_type": "code",
   "execution_count": null,
   "metadata": {},
   "outputs": [],
   "source": [
    "diccionario_demo={\n",
    "\"Name\": [\"Braund, Mr. Owen Harris\",\n",
    "\"Allen, Mr. William Henry\",\n",
    "\"Bonnell, Miss. Elizabeth\"],\n",
    "\"Age\": [22, 35, 58],\n",
    "\"Sex\": [\"male\", \"male\", \"female\"]}\n",
    "diccionario_demo"
   ]
  },
  {
   "cell_type": "code",
   "execution_count": null,
   "metadata": {},
   "outputs": [],
   "source": [
    "type(diccionario_demo)"
   ]
  },
  {
   "cell_type": "code",
   "execution_count": null,
   "metadata": {},
   "outputs": [],
   "source": [
    "df = pd.DataFrame(diccionario_demo)\n",
    "df"
   ]
  },
  {
   "cell_type": "code",
   "execution_count": null,
   "metadata": {},
   "outputs": [],
   "source": [
    "df.to_excel('diccionario_demo.xlsx', sheet_name='demo', index=False)"
   ]
  },
  {
   "cell_type": "code",
   "execution_count": null,
   "metadata": {},
   "outputs": [],
   "source": [
    "df.to_sql(\"clientes\", con=conn_pgadmin, if_exists=\"fail\")"
   ]
  },
  {
   "cell_type": "code",
   "execution_count": null,
   "metadata": {},
   "outputs": [],
   "source": [
    "type(df)"
   ]
  },
  {
   "cell_type": "markdown",
   "metadata": {},
   "source": [
    "Para almacenar datos manualmente en una tabla, cree un __DataFrame__. Cuando se usa un diccionario de listas de Python, las claves del __diccionario__ se usarán como encabezados de columna y los valores en cada lista como columnas del DataFrame.\n",
    "\n",
    "Un __DataFrame__ es una estructura de datos bidimensional que puede almacenar datos de diferentes tipos (incluidos caracteres, números enteros, valores de punto flotante, datos categóricos y más) en columnas. Es similar a una hoja de cálculo, una tabla SQL o el data.frame en R.\n",
    "\n",
    "* La tabla tiene 3 columnas, cada una de ellas con una etiqueta de columna. Las etiquetas de las columnas son respectivamente Nombre, Edad y Sexo.\n",
    "* La columna Nombre consta de datos textuales con cada valor una cadena, la columna Edad son números y la columna Sexo son datos textuales.\n",
    "\n",
    "En el software de hoja de cálculo, la representación de la tabla de nuestros datos sería muy similar:\n",
    "\n",
    "\n",
    "<img src=\"https://pandas.pydata.org/docs/_images/01_table_spreadsheet.png\" width=\"50%\" height=\"50%\">\n",
    "\n",
    "### Cada columna de un DataFrame es un pandas Series\n",
    "<img src=\"https://pandas.pydata.org/docs/_images/01_table_series.svg\" width=\"20%\" height=\"20%\">\n",
    "\n",
    "Si solo me interesa trabajar con los datos de la columna Edad:"
   ]
  },
  {
   "cell_type": "code",
   "execution_count": null,
   "metadata": {},
   "outputs": [],
   "source": [
    "df[\"Age\"]"
   ]
  },
  {
   "cell_type": "code",
   "execution_count": null,
   "metadata": {},
   "outputs": [],
   "source": [
    "type(df[\"Age\"])"
   ]
  },
  {
   "cell_type": "code",
   "execution_count": null,
   "metadata": {},
   "outputs": [],
   "source": [
    "df[\"Name\"]"
   ]
  },
  {
   "cell_type": "code",
   "execution_count": null,
   "metadata": {},
   "outputs": [],
   "source": [
    "type(df[\"Name\"])"
   ]
  },
  {
   "cell_type": "code",
   "execution_count": null,
   "metadata": {},
   "outputs": [],
   "source": [
    "lista=[\"Name\", \"Age\"]"
   ]
  },
  {
   "cell_type": "code",
   "execution_count": null,
   "metadata": {},
   "outputs": [],
   "source": [
    "df[lista]"
   ]
  },
  {
   "cell_type": "code",
   "execution_count": null,
   "metadata": {},
   "outputs": [],
   "source": [
    "type(df[lista])"
   ]
  },
  {
   "cell_type": "markdown",
   "metadata": {},
   "source": [
    "Al seleccionar una sola columna de un DataFrame de pandas, el resultado es un __pandas Series__. Para seleccionar la columna, use la etiqueta de la columna entre corchetes `[]`.\n",
    "\n",
    "<div class=\"alert alert-block alert-info\">\n",
    "<b>Nota:</b> _La selección de una sola columna es muy similar a la selección de valores de diccionario basados en la clave._\n",
    "</div>\n",
    "\n",
    "También puede crear un __pandas Series__ desde cero:"
   ]
  },
  {
   "cell_type": "code",
   "execution_count": null,
   "metadata": {},
   "outputs": [],
   "source": [
    "ages = pd.Series([22, 35, 58], name=\"Age\")\n",
    "ages"
   ]
  },
  {
   "cell_type": "markdown",
   "metadata": {},
   "source": [
    "### Haz algo con un DataFrame o Series:\n",
    "Quiero saber la edad máxima de los pasajeros. Podemos hacer esto en el DataFrame seleccionando la columna Edad y aplicando `max()`:"
   ]
  },
  {
   "cell_type": "code",
   "execution_count": null,
   "metadata": {},
   "outputs": [],
   "source": [
    "df[\"Age\"].max()"
   ]
  },
  {
   "cell_type": "markdown",
   "metadata": {},
   "source": [
    "o en la Series:"
   ]
  },
  {
   "cell_type": "code",
   "execution_count": null,
   "metadata": {},
   "outputs": [],
   "source": [
    "type(ages)"
   ]
  },
  {
   "cell_type": "code",
   "execution_count": null,
   "metadata": {},
   "outputs": [],
   "source": [
    "ages.max()"
   ]
  },
  {
   "cell_type": "markdown",
   "metadata": {},
   "source": [
    "Como ilustra el método `max()`, puede hacer cosas con un DataFrame o Series. pandas proporciona muchas funcionalidades, cada una de ellas un método que puede aplicar a un DataFrame o Series. Como los métodos son funciones, no olvide utilizar paréntesis `()`.\n",
    "\n",
    "Estoy interesado en algunas estadísticas básicas de los datos numéricos de mi tabla de datos:"
   ]
  },
  {
   "cell_type": "code",
   "execution_count": null,
   "metadata": {},
   "outputs": [],
   "source": [
    "df"
   ]
  },
  {
   "cell_type": "code",
   "execution_count": null,
   "metadata": {},
   "outputs": [],
   "source": [
    "df[\"Age2\"]=df[\"Age\"]*2\n",
    "df"
   ]
  },
  {
   "cell_type": "code",
   "execution_count": null,
   "metadata": {},
   "outputs": [],
   "source": [
    "df.describe()"
   ]
  },
  {
   "cell_type": "code",
   "execution_count": null,
   "metadata": {},
   "outputs": [],
   "source": [
    "hola=\"esto es una cadena\"\n",
    "hola[5:7]"
   ]
  },
  {
   "cell_type": "code",
   "execution_count": null,
   "metadata": {},
   "outputs": [],
   "source": [
    "df[1:2]"
   ]
  },
  {
   "cell_type": "code",
   "execution_count": null,
   "metadata": {},
   "outputs": [],
   "source": [
    "df.describe()[3:4].T"
   ]
  },
  {
   "cell_type": "code",
   "execution_count": null,
   "metadata": {},
   "outputs": [],
   "source": [
    "df.describe()[3:6].T"
   ]
  },
  {
   "cell_type": "code",
   "execution_count": null,
   "metadata": {},
   "outputs": [],
   "source": [
    "type(df.describe())"
   ]
  },
  {
   "cell_type": "markdown",
   "metadata": {},
   "source": [
    "El método `describe()` proporciona una descripción general rápida de los datos numéricos en un DataFrame. Como las columnas Nombre y Sexo son datos textuales, el método `describe()` no los tiene en cuenta por defecto.\n",
    "\n",
    "Muchas operaciones de pandas devuelven un DataFrame o una Series. El método `describe()` es un ejemplo de una operación de pandas que devuelve un pandas Series.\n",
    "\n",
    "Verifique más opciones de `describe()` en la sección de la guía del usuario sobre agregaciones con describe(): https://pandas.pydata.org/docs/user_guide/basics.html#basics-describe\n",
    "\n",
    "\n",
    "<div class=\"alert alert-block alert-info\">\n",
    "<b>Recuerda:</b>\n",
    "    <ul>\n",
    "        <li>Importar el paquete, también conocido como importar pandas como pd</li>\n",
    "        <li>Una tabla de datos se almacena como un DataFrame de pandas</li>\n",
    "        <li>Cada columna de un DataFrame es un pandas Series</li>\n",
    "        <li>Puede hacer cosas aplicando un método a un DataFrame o Series</li>\n",
    "    </ul>\n",
    "</div>"
   ]
  },
  {
   "cell_type": "markdown",
   "metadata": {},
   "source": [
    "### Cómo leo y escribo datos tabulares?\n",
    "<img src=\"https://pandas.pydata.org/pandas-docs/version/1.0.3/_images/02_io_readwrite1.svg\" width=\"70%\" height=\"70%\">\n",
    "\n",
    "Vamos a analizar los datos de los pasajeros del Titanic disponibles como archivo CSV. Para eso subir el archivo __titanic.csv__ disponibilizado en esta clase en la misma ruta que este jupyter notebook:"
   ]
  },
  {
   "cell_type": "code",
   "execution_count": null,
   "metadata": {},
   "outputs": [],
   "source": [
    "titanic = pd.read_csv(\"titanic.csv\")"
   ]
  },
  {
   "cell_type": "markdown",
   "metadata": {},
   "source": [
    "__pandas__ proporciona la función `read_csv()` para leer datos almacenados como un archivo csv en un DataFrame de pandas. pandas admite muchos formatos de archivo diferentes o fuentes de datos listos para usar (csv, excel, sql, json, parquet,…), cada uno de ellos con el prefijo __read_*()__.\n",
    "\n",
    "Asegúrese de tener siempre un control de los datos después de leerlos. Al mostrar un DataFrame, la primera y las últimas 30 filas se mostrarán de forma predeterminada:"
   ]
  },
  {
   "cell_type": "code",
   "execution_count": null,
   "metadata": {},
   "outputs": [],
   "source": [
    "dir(pd)"
   ]
  },
  {
   "cell_type": "code",
   "execution_count": null,
   "metadata": {
    "scrolled": false
   },
   "outputs": [],
   "source": [
    "titanic.head()"
   ]
  },
  {
   "cell_type": "markdown",
   "metadata": {},
   "source": [
    "Si quiero ver las primeras 8 filas de un DataFrame de pandas, hagan lo siguiente:"
   ]
  },
  {
   "cell_type": "code",
   "execution_count": null,
   "metadata": {},
   "outputs": [],
   "source": [
    "titanic.head(8)"
   ]
  },
  {
   "cell_type": "markdown",
   "metadata": {},
   "source": [
    "Para ver las primeras N filas de un DataFrame, use el método `head()` con el número requerido de filas (en este caso 8) como argumento.\n",
    "\n",
    "\n",
    "Estás interesado en las últimas N filas? pandas también proporciona un método `tail()`. Por ejemplo, `titanic.tail(10)` devolverá las últimas 10 filas del DataFrame."
   ]
  },
  {
   "cell_type": "code",
   "execution_count": null,
   "metadata": {},
   "outputs": [],
   "source": [
    "titanic.tail(10)"
   ]
  },
  {
   "cell_type": "code",
   "execution_count": null,
   "metadata": {},
   "outputs": [],
   "source": [
    "titanic.head()"
   ]
  },
  {
   "cell_type": "markdown",
   "metadata": {},
   "source": [
    "### Eliminar espacios en blanco:\n",
    "Para eliminar espacios por ejemplo en nombre de columnas usar la función `strip()`:"
   ]
  },
  {
   "cell_type": "code",
   "execution_count": null,
   "metadata": {},
   "outputs": [],
   "source": [
    "titanic[\"Columna con espacio\"]=titanic[\"Name\"]\n",
    "titanic"
   ]
  },
  {
   "cell_type": "code",
   "execution_count": null,
   "metadata": {},
   "outputs": [],
   "source": [
    "titanic.rename(columns={'Columna conespacio':' Columnaconespacio '}, inplace=True)\n",
    "titanic.head()"
   ]
  },
  {
   "cell_type": "code",
   "execution_count": null,
   "metadata": {
    "scrolled": false
   },
   "outputs": [],
   "source": [
    "titanic.columns = [col.strip() for col in titanic.columns]\n",
    "titanic.head()"
   ]
  },
  {
   "cell_type": "markdown",
   "metadata": {},
   "source": [
    "Se puede verificar cómo pandas interpreta cada uno de los tipos de datos de columna solicitando el atributo pandas `dtypes`:"
   ]
  },
  {
   "cell_type": "code",
   "execution_count": null,
   "metadata": {},
   "outputs": [],
   "source": [
    "titanic.drop(columns=[\"Columnaconespacio\"], inplace=True)"
   ]
  },
  {
   "cell_type": "code",
   "execution_count": null,
   "metadata": {},
   "outputs": [],
   "source": [
    "titanic.drop(columns=[\"Fare\"])"
   ]
  },
  {
   "cell_type": "code",
   "execution_count": null,
   "metadata": {},
   "outputs": [],
   "source": [
    "titanic.head()"
   ]
  },
  {
   "cell_type": "code",
   "execution_count": null,
   "metadata": {},
   "outputs": [],
   "source": [
    "titanic.dtypes"
   ]
  },
  {
   "cell_type": "markdown",
   "metadata": {},
   "source": [
    "Para cada una de las columnas, se incluye el tipo de datos utilizado. Los tipos de datos en este DataFrame son enteros (int64), flotantes (float64) y cadenas (objeto).\n",
    "\n",
    "<div class=\"alert alert-block alert-info\">\n",
    "<b>Nota:</b> Al utilizar dtypes, no se utilizan paréntesis! dtypes es un atributo de DataFrame y Series. Los atributos de DataFrame o Series no necesitan paréntesis. Los atributos representan una característica de un DataFrame/Series, mientras que un método (que requiere paréntesis) hace algo con el DataFrame/Series\n",
    "</div>\n",
    "\n",
    "Si desean convertir este DataFrame en una hoja de cálculo:"
   ]
  },
  {
   "cell_type": "code",
   "execution_count": null,
   "metadata": {},
   "outputs": [],
   "source": [
    "dir(titanic)"
   ]
  },
  {
   "cell_type": "code",
   "execution_count": null,
   "metadata": {},
   "outputs": [],
   "source": [
    "titanic.to_excel('titanic.xlsx', sheet_name='passengers', index=False)"
   ]
  },
  {
   "cell_type": "markdown",
   "metadata": {},
   "source": [
    "Mientras que las funciones `read_*()` se utilizan para leer datos en pandas, los métodos `to_*()` se utilizan para almacenar datos. El método `to_excel()` almacena los datos como un archivo de Excel. En el ejemplo aquí, `sheet_name` renombra la hoja a __pasajeros__ en lugar de __Sheet1__ que es el predeterminado. Al establecer `index = False`, las etiquetas de índice de fila no se guardan en la hoja de cálculo.\n",
    "\n",
    "La función de lectura equivalente `read_excel()` volverá a cargar los datos en un DataFrame:"
   ]
  },
  {
   "cell_type": "code",
   "execution_count": null,
   "metadata": {},
   "outputs": [],
   "source": [
    "titanic = pd.read_excel('titanic.xlsx', sheet_name='passengers')\n",
    "titanic.head()"
   ]
  },
  {
   "cell_type": "markdown",
   "metadata": {},
   "source": [
    "Para visualizar un resumen técnico de un DataFrame:"
   ]
  },
  {
   "cell_type": "code",
   "execution_count": null,
   "metadata": {},
   "outputs": [],
   "source": [
    "titanic.info()"
   ]
  },
  {
   "cell_type": "markdown",
   "metadata": {},
   "source": [
    "El método `info()` proporciona información técnica sobre un DataFrame, así que expliquemos el resultado con más detalle:\n",
    "\n",
    "* De hecho, es un DataFrame.\n",
    "* Hay 891 entradas, es decir, 891 filas.\n",
    "* Cada fila tiene una etiqueta de fila (también conocida como índice) con valores que van de 0 a 890.\n",
    "* La tabla tiene 12 columnas. La mayoría de las columnas tienen un valor para cada una de las filas (los 891 valores no son nulos). Algunas columnas tienen valores perdidos y menos de 891 valores no nulos.\n",
    "* Las columnas Nombre, Sexo, Cabaña y Embarcado constan de datos textuales (cadenas, también conocido como objeto). Las otras columnas son datos numéricos con algunos de ellos números enteros (también conocidos como enteros) y otros son números reales (también conocidos como flotantes).\n",
    "* El tipo de datos (caracteres, enteros,…) en las diferentes columnas se resumen enumerando los dtypes.\n",
    "* También se proporciona la cantidad aproximada de RAM utilizada para contener el DataFrame.\n",
    "\n",
    "\n",
    "<div class=\"alert alert-block alert-info\">\n",
    "<b>Recuerda:</b>\n",
    "    <ul>\n",
    "        <li>Las funciones read_*() admiten la introducción de datos en pandas desde diferentes formatos de archivo o fuentes de datos.</li>\n",
    "        <li>La exportación de datos desde pandas se realiza mediante diferentes métodos to_*().</li>\n",
    "        <li>Los métodos head/tail/info y el atributo dtypes son convenientes para una primera verificación.</li>\n",
    "    </ul>\n",
    "</div>"
   ]
  },
  {
   "cell_type": "code",
   "execution_count": null,
   "metadata": {},
   "outputs": [],
   "source": [
    "titanic"
   ]
  },
  {
   "cell_type": "markdown",
   "metadata": {},
   "source": [
    "### Cómo selecciono columnas específicas de un DataFrame?\n",
    "<img src=\"https://pandas.pydata.org/docs/_images/03_subset_columns.svg\" width=\"70%\" height=\"70%\">\n",
    "\n",
    "Para ver la edad de los pasajeros:"
   ]
  },
  {
   "cell_type": "code",
   "execution_count": null,
   "metadata": {},
   "outputs": [],
   "source": [
    "ages = titanic[\"Age\"]\n",
    "ages.head()"
   ]
  },
  {
   "cell_type": "markdown",
   "metadata": {},
   "source": [
    "Para seleccionar una sola columna, use corchetes `[]` con el nombre de la columna de interés.\n",
    "\n",
    "Cada columna de un DataFrame es un pandas Series. Cuando se selecciona una sola columna, el objeto devuelto es un pandas Series. Podemos verificar esto comprobando el tipo de salida:"
   ]
  },
  {
   "cell_type": "code",
   "execution_count": null,
   "metadata": {},
   "outputs": [],
   "source": [
    "type(titanic[\"Age\"])"
   ]
  },
  {
   "cell_type": "markdown",
   "metadata": {},
   "source": [
    "Y observe la forma de la salida:"
   ]
  },
  {
   "cell_type": "code",
   "execution_count": null,
   "metadata": {},
   "outputs": [],
   "source": [
    "titanic[\"Age\"].shape"
   ]
  },
  {
   "cell_type": "markdown",
   "metadata": {},
   "source": [
    "`DataFrame.shape` es un atributo de un pandas Series y DataFrame que contiene el número de filas y columnas: (nrows, ncolumns). Una pandas Series es unidimensional y solo se devuelve el número de filas.\n",
    "\n",
    "Para ver la edad y sexo de los pasajeros del Titanic:"
   ]
  },
  {
   "cell_type": "code",
   "execution_count": null,
   "metadata": {},
   "outputs": [],
   "source": [
    "lista_de_col=[\"Age\", \"Sex\"]"
   ]
  },
  {
   "cell_type": "code",
   "execution_count": null,
   "metadata": {},
   "outputs": [],
   "source": [
    "age_sex = titanic[lista_de_col]\n",
    "age_sex.head()"
   ]
  },
  {
   "cell_type": "markdown",
   "metadata": {},
   "source": [
    "Para seleccionar varias columnas, use una lista de nombres de columna dentro de los corchetes de selección `[]`\n",
    "\n",
    "<div class=\"alert alert-block alert-info\">\n",
    "<b>Nota:</b> Los corchetes internos definen una lista de Python con nombres de columna, mientras que los corchetes externos se utilizan para seleccionar los datos de un DataFrame de pandas como se ve en el ejemplo anterior.\n",
    "</div>\n",
    "El tipo de datos devuelto es un DataFrame de pandas:"
   ]
  },
  {
   "cell_type": "code",
   "execution_count": null,
   "metadata": {},
   "outputs": [],
   "source": [
    "type(titanic[[\"Age\", \"Sex\"]])"
   ]
  },
  {
   "cell_type": "code",
   "execution_count": null,
   "metadata": {},
   "outputs": [],
   "source": [
    "titanic[[\"Age\", \"Sex\"]].shape"
   ]
  },
  {
   "cell_type": "markdown",
   "metadata": {},
   "source": [
    "La selección devolvió un DataFrame con 891 filas y 2 columnas. Recuerda, un DataFrame es bidimensional con una dimensión de fila y columna.\n",
    "\n",
    "Para obtener información básica sobre la indexación, consulte la sección de la guía del usuario sobre indexación y selección de datos: https://pandas.pydata.org/docs/user_guide/indexing.html#indexing-basics\n",
    "\n",
    "### Cómo filtro filas específicas de un DataFrame?\n",
    "<img src=\"https://pandas.pydata.org/docs/_images/03_subset_rows.svg\" width=\"70%\" height=\"70%\">\n",
    "\n",
    "Si deseo ver los pasajeros mayores a 35 años:"
   ]
  },
  {
   "cell_type": "code",
   "execution_count": null,
   "metadata": {},
   "outputs": [],
   "source": [
    "mayor_que_35 = titanic[titanic[\"Age\"] > 35]\n",
    "\n",
    "mayor_que_35.head()"
   ]
  },
  {
   "cell_type": "markdown",
   "metadata": {},
   "source": [
    "La condición dentro de los corchetes de selección titanic `[\"Age\"]> 35` comprueba qué filas tiene la columna `Age` con un valor mayor que 35:"
   ]
  },
  {
   "cell_type": "code",
   "execution_count": null,
   "metadata": {},
   "outputs": [],
   "source": [
    "titanic[\"Age\"] > 35"
   ]
  },
  {
   "cell_type": "markdown",
   "metadata": {},
   "source": [
    "La salida de la expresión condicional (>, pero también ==,! =, <, <=,… funcionaría) es en realidad un pandas Series de valores booleanos (Verdadero o Falso) con el mismo número de filas que el DataFrame original . Esta serie de valores booleanos se puede utilizar para filtrar el DataFrame colocándolo entre los corchetes de selección `[]`. Solo se seleccionarán las filas para las que el valor sea Verdadero.\n",
    "\n",
    "Sabemos desde antes que el Titanic DataFrame original consta de 891 filas. Echemos un vistazo a la cantidad de filas que satisfacen la condición comprobando el atributo de forma del DataFrame resultante mayor_que_35:"
   ]
  },
  {
   "cell_type": "code",
   "execution_count": null,
   "metadata": {},
   "outputs": [],
   "source": [
    "mayor_que_35.shape"
   ]
  },
  {
   "cell_type": "markdown",
   "metadata": {},
   "source": [
    "Si quiero visualizar pasajeros del Titanic de las clases de cabina 2 y 3:"
   ]
  },
  {
   "cell_type": "code",
   "execution_count": null,
   "metadata": {},
   "outputs": [],
   "source": [
    "clase_23 = titanic[titanic[\"Pclass\"].isin([2, 3])]\n",
    "clase_23.head()"
   ]
  },
  {
   "cell_type": "markdown",
   "metadata": {},
   "source": [
    "Similar a la expresión condicional, la función condicional `isin()` devuelve un Verdadero para cada fila en la que los valores están en la lista proporcionada. Para filtrar las filas en función de dicha función, utilice la función condicional dentro de los corchetes de selección `[]`. En este caso, la condición dentro de los corchetes de selección titanic `[\"Pclass\"].isin([2, 3])` comprueba en qué filas la columna `Pclass` es 2 o 3.\n",
    "\n",
    "Lo anterior es equivalente a filtrar por filas para las que la clase es 2 o 3 y combinar las dos declaraciones con un operador `or: |`:"
   ]
  },
  {
   "cell_type": "code",
   "execution_count": null,
   "metadata": {},
   "outputs": [],
   "source": [
    "clase_23 = titanic[(titanic[\"Pclass\"] == 2) | (titanic[\"Pclass\"] == 3)]\n",
    "clase_23.head()"
   ]
  },
  {
   "cell_type": "markdown",
   "metadata": {},
   "source": [
    "<div class=\"alert alert-block alert-info\">\n",
    "<b>Nota:</b> Cuando se combinan varias declaraciones condicionales, cada condición debe estar entre paréntesis <b>()</b>. Además, no puede utilizar las palabas <b>or/and</b>, pero necesita utilizar el operador <b>or: |</b> y el operador <b>and: &</b>.\n",
    "</div>\n",
    "\n",
    "Consulte la sección dedicada en la guía del usuario sobre indexación booleana (https://pandas.pydata.org/docs/user_guide/indexing.html#indexing-boolean) o sobre la función isin (https://pandas.pydata.org/docs/user_guide/indexing.html#indexing-boolean).\n",
    "\n",
    "Quiero trabajar con datos de pasajeros para los que se conoce la edad:"
   ]
  },
  {
   "cell_type": "code",
   "execution_count": null,
   "metadata": {},
   "outputs": [],
   "source": [
    "titanic[\"Age\"].notna()"
   ]
  },
  {
   "cell_type": "code",
   "execution_count": null,
   "metadata": {},
   "outputs": [],
   "source": [
    "age_no_na = titanic[titanic[\"Age\"].notna()]\n",
    "\n",
    "age_no_na.head()"
   ]
  },
  {
   "cell_type": "markdown",
   "metadata": {},
   "source": [
    "La función condicional `notna()` devuelve un verdadero para cada fila, los valores no son un valor nulo. Como tal, esto se puede combinar con los corchetes de selección `[]` para filtrar la tabla de datos.\n",
    "\n",
    "Quizás te preguntes qué cambió realmente, ya que las primeras 5 líneas siguen teniendo los mismos valores. Una forma de verificar es mirar si la forma ha cambiado:"
   ]
  },
  {
   "cell_type": "code",
   "execution_count": null,
   "metadata": {},
   "outputs": [],
   "source": [
    "age_no_na.shape"
   ]
  },
  {
   "cell_type": "markdown",
   "metadata": {},
   "source": [
    "Para funciones más dedicadas sobre valores perdidos, consulte la sección de la guía del usuario sobre el manejo de datos perdidos: https://pandas.pydata.org/docs/user_guide/missing_data.html#missing-data\n",
    "\n",
    "### Cómo selecciono filas y columnas específicas de un DataFrame?\n",
    "<img src=\"https://pandas.pydata.org/pandas-docs/version/1.0.3/_images/03_subset_columns_rows1.svg\" width=\"70%\" height=\"70%\">\n",
    "\n",
    "Si quiero ver los nombres de pasajeros mayores a 35 años:"
   ]
  },
  {
   "cell_type": "code",
   "execution_count": null,
   "metadata": {},
   "outputs": [],
   "source": [
    "adult_names = titanic.loc[titanic[\"Age\"] > 35, \"Name\"]\n",
    "adult_names.head()"
   ]
  },
  {
   "cell_type": "code",
   "execution_count": null,
   "metadata": {},
   "outputs": [],
   "source": [
    "type(adult_names)"
   ]
  },
  {
   "cell_type": "markdown",
   "metadata": {},
   "source": [
    "En este caso, se crea un subconjunto de filas y columnas de una sola vez y ya no basta con usar corchetes de selección `[]`. Los operadores `loc/iloc` se requieren delante de los corchetes de selección `[]`. Al usar `loc/iloc`, la parte antes de la coma son las filas que desea, y la parte después de la coma son las columnas que desea seleccionar.\n",
    "\n",
    "Cuando utilice nombres de columnas, etiquetas de filas o una expresión de condición, utilice el operador `loc` delante de los corchetes de selección `[]`. Tanto para la parte anterior como posterior a la coma, puede utilizar una sola etiqueta, una lista de etiquetas, un segmento de etiquetas, una expresión condicional o dos puntos. El uso de dos puntos especifica que desea seleccionar todas las filas o columnas.\n",
    "\n",
    "Si quiero ver las filas 10 a 24 (los primeros 25 registros) y columnas 3 a 5:"
   ]
  },
  {
   "cell_type": "code",
   "execution_count": null,
   "metadata": {},
   "outputs": [],
   "source": [
    "titanic.head(10)"
   ]
  },
  {
   "cell_type": "code",
   "execution_count": null,
   "metadata": {},
   "outputs": [],
   "source": [
    "#primero slicing de filas, luego slicing de columnas\n",
    "titanic.iloc[9:25, 2:5]"
   ]
  },
  {
   "cell_type": "markdown",
   "metadata": {},
   "source": [
    "De nuevo, se crea un subconjunto de filas y columnas de una sola vez y ya no basta con usar corchetes de selección `[]`. Cuando esté específicamente interesado en ciertas filas y/o columnas según su posición en la tabla, utilice el operador `iloc` delante de los corchetes de selección `[]`.\n",
    "\n",
    "Al seleccionar filas y/o columnas específicas con `loc` o `iloc`, se pueden asignar nuevos valores a los datos seleccionados. Por ejemplo, para asignar el nombre anónimo a los primeros 3 elementos de la tercera columna:"
   ]
  },
  {
   "cell_type": "code",
   "execution_count": null,
   "metadata": {},
   "outputs": [],
   "source": [
    "titanic.iloc[0:3, 3]"
   ]
  },
  {
   "cell_type": "code",
   "execution_count": null,
   "metadata": {},
   "outputs": [],
   "source": [
    "titanic.iloc[0:3, 3] = \"anonymous\"\n",
    "titanic.head()"
   ]
  },
  {
   "cell_type": "markdown",
   "metadata": {},
   "source": [
    "Consulte la sección de la guía del usuario sobre las diferentes opciones de indexación para obtener más información sobre el uso de loc e iloc: https://pandas.pydata.org/docs/user_guide/indexing.html#indexing-choice"
   ]
  },
  {
   "cell_type": "markdown",
   "metadata": {},
   "source": [
    "<div class=\"alert alert-block alert-info\">\n",
    "<b>Recuerda:</b>\n",
    "    <ul>\n",
    "        <li>Al seleccionar subconjuntos de datos, se utilizan corchetes [].</li>\n",
    "        <li>Dentro de estos corchetes, puede usar una sola etiqueta de columna/fila, una lista de etiquetas de columna/fila, un segmento de etiquetas, una expresión condicional o dos puntos.</li>\n",
    "        <li>Seleccione filas y/o columnas específicas usando loc cuando use los nombres de filas y columnas</li>\n",
    "        <li>Seleccione filas y/o columnas específicas usando iloc cuando use las posiciones en la tabla</li>\n",
    "        <li>Puede asignar nuevos valores a una selección basada en loc/iloc.</li>\n",
    "    </ul>\n",
    "</div>\n",
    "\n",
    "Puede ver una descripción general completa sobre la indexación en las páginas de la guía del usuario sobre indexación y selección de datos: https://pandas.pydata.org/docs/user_guide/indexing.html#indexing"
   ]
  },
  {
   "cell_type": "markdown",
   "metadata": {},
   "source": [
    "### Pregunta para los que no asistieron de la clase en vivo o no obtuvieron el total de puntos (10 puntos):\n",
    "\n",
    "1. En qué se diferencian el uso de la librería numpy de la librería pandas?"
   ]
  },
  {
   "cell_type": "markdown",
   "metadata": {},
   "source": [
    "### Tareas\n",
    "\n",
    "#### Tarea 1: (5p)\n",
    "Crea un DataFrame llamado `expenses` que contenga los elementos del archivo `expenses.csv`.\n",
    "Eliminar posibles espacios en los nombres de sus columnas.\n",
    "\n",
    "Luego crear dos DataFrame en base a `expenses` con el nombre `hombres_menores_45` y `mujeres_mayores_26`. En cada uno debe estar solo los registros que cumplan la condición de sus nombres (ej: DataFrame `hombres_menores_45` solo con registros de hombres menores a 45 años, aplicar misma lógica al otro DataFrame).\n",
    "\n",
    "Imprimir:\n",
    "* `expenses`: los primeros 9 registros\n",
    "* `hombres_menores_45`: los últimos 10 registros\n",
    "* `mujeres_mayores_26`: los primeros 15 registros y los últimos 5 registros juntos (investigar).\n",
    "\n",
    "En base al dataframe expenses:\n",
    "* Hallar el valor mínimo de la columna Monthly Income. Imprimir el resultado\n",
    "* Hallar el valor promedio de la columna Total Spend. Imprimir el resultado"
   ]
  },
  {
   "cell_type": "code",
   "execution_count": null,
   "metadata": {},
   "outputs": [],
   "source": []
  },
  {
   "cell_type": "markdown",
   "metadata": {},
   "source": [
    "#### Tarea 2: (5p)\n",
    "Del DataFrame `hombres_menores_45` eliminar todas las columnas a excepción de las columnas __Items__, __Monthly Income__.\n",
    "Y del DataFrame `mujeres_mayores_26` eliminar todas las columnas a excepción de las columnas __Record__ y __Total Spend__.\n",
    "\n",
    "Crear 2 archivos excel donde:\n",
    "* Para los hombres dejar solo los registros con 2 Items y con Monthly Income superior o igual a 4200\n",
    "* Para las mujeres dejar solo los registros con 3 o más Record y con Total Spend mayor a 3800\n",
    "\n",
    "Para ambos casos deben imprimir acá la cantidad de filas y columnas que guardan en el excel."
   ]
  },
  {
   "cell_type": "code",
   "execution_count": null,
   "metadata": {},
   "outputs": [],
   "source": []
  }
 ],
 "metadata": {
  "kernelspec": {
   "display_name": "Python 3",
   "language": "python",
   "name": "python3"
  },
  "language_info": {
   "codemirror_mode": {
    "name": "ipython",
    "version": 3
   },
   "file_extension": ".py",
   "mimetype": "text/x-python",
   "name": "python",
   "nbconvert_exporter": "python",
   "pygments_lexer": "ipython3",
   "version": "3.8.8"
  }
 },
 "nbformat": 4,
 "nbformat_minor": 4
}
